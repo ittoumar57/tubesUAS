{
 "cells": [
  {
   "cell_type": "code",
   "execution_count": 61,
   "metadata": {},
   "outputs": [
    {
     "name": "stdout",
     "output_type": "stream",
     "text": [
      "     kode_negara  tahun   produksi\n",
      "0            AUS   1971  14226.194\n",
      "1            AUS   1972  15029.094\n",
      "2            AUS   1973  18720.577\n",
      "3            AUS   1974  18498.696\n",
      "4            AUS   1975  19736.070\n",
      "...          ...    ...        ...\n",
      "5628         ZWE   2011      0.000\n",
      "5629         ZWE   2012      0.000\n",
      "5630         ZWE   2013      0.000\n",
      "5631         ZWE   2014      0.000\n",
      "5632         ZWE   2015      0.000\n",
      "\n",
      "[5633 rows x 3 columns]\n",
      "<bound method NDFrame.describe of      kode_negara  tahun   produksi\n",
      "0            AUS   1971  14226.194\n",
      "1            AUS   1972  15029.094\n",
      "2            AUS   1973  18720.577\n",
      "3            AUS   1974  18498.696\n",
      "4            AUS   1975  19736.070\n",
      "...          ...    ...        ...\n",
      "5834         ZWE   2011      0.000\n",
      "5835         ZWE   2012      0.000\n",
      "5836         ZWE   2013      0.000\n",
      "5837         ZWE   2014      0.000\n",
      "5838         ZWE   2015      0.000\n",
      "\n",
      "[5839 rows x 3 columns]>\n"
     ]
    }
   ],
   "source": [
    "import pandas as pd\n",
    "import numpy as np\n",
    "import json\n",
    "from matplotlib import pyplot as plt\n",
    "from matplotlib import cm\n",
    "df = pd.read_csv('produksi_minyak_mentah.csv')\n",
    "df_clean = df.set_index('kode_negara')\n",
    "df_clean.head()\n",
    "\n",
    "df_clean = df_clean.drop(['WLD','G20','OEU','EU28','OECD'])\n",
    "df_clean.reset_index(drop=False,inplace=True)\n",
    "print(df_clean)\n",
    "\n",
    "\n"
   ]
  },
  {
   "cell_type": "code",
   "execution_count": 11,
   "metadata": {},
   "outputs": [
    {
     "name": "stdout",
     "output_type": "stream",
     "text": [
      "Kode: ['AUS', 'AUT', 'BEL', 'CAN', 'CZE', 'DNK', 'FIN', 'FRA', 'DEU', 'GRC', 'HUN', 'ISL', 'IRL', 'ITA', 'JPN', 'KOR', 'LUX', 'MEX', 'NLD', 'NZL', 'NOR', 'POL', 'PRT', 'SVK', 'ESP', 'SWE', 'CHE', 'TUR', 'GBR', 'USA', 'OEU', 'ALB', 'DZA', 'ARG', 'ARM', 'AZE', 'BGD', 'BLR', 'BIH', 'BRA', 'BRN', 'BGR', 'KHM', 'CHL', 'CHN', 'COL', 'HRV', 'CYP', 'EGY', 'EST', 'ETH', 'GEO', 'GHA', 'HTI', 'HKG', 'IND', 'IDN', 'IRN', 'ISR', 'KAZ', 'LVA', 'LTU', 'MKD', 'MYS', 'MLT', 'MDA', 'MOZ', 'NGA', 'PAK', 'PRY', 'PER', 'PHL', 'ROU', 'RUS', 'SAU', 'SGP', 'SVN', 'ZAF', 'SDN', 'TWN', 'TZA', 'THA', 'UKR', 'ARE', 'URY', 'VNM', 'ZMB', 'WLD', 'SRB', 'MNE', 'EU28', 'G20', 'OECD', 'AGO', 'BHR', 'BEN', 'BOL', 'BWA', 'CMR', 'COG', 'CRI', 'CIV', 'CUB', 'PRK', 'COD', 'DOM', 'ECU', 'SLV', 'ERI', 'GAB', 'GTM', 'HND', 'IRQ', 'JAM', 'JOR', 'KEN', 'KWT', 'KGZ', 'LBN', 'LBY', 'MNG', 'MAR', 'MMR', 'NAM', 'NPL', 'NIC', 'NER', 'OMN', 'PAN', 'QAT', 'SEN', 'LKA', 'SYR', 'TJK', 'TGO', 'TTO', 'TUN', 'TKM', 'UZB', 'VEN', 'YEM', 'ZWE']\n",
      "Total Produksi: [983323, 57085, 0, 3973064, 5714, 359065, 0, 75399, 178650, 15284, 66774, 0, 0, 170618, 18573, 406, 0, 5771613, 95629, 61966, 3562696, 21191, 0, 2583, 38226, 124, 0, 125982, 3585340, 16724113, 8360717, 47208, 2082973, 1318433, 0, 620298, 218, 47492, 0, 2176685, 391486, 4389, 0, 34922, 6422416, 1085190, 29984, 0, 1517335, 0, 0, 2217, 24223, 0, 0, 1242542, 2906820, 8376438, 29385, 1333990, 0, 4606, 0, 1134025, 0, 118, 402, 4457218, 99002, 0, 274741, 18456, 366994, 10702740, 17711742, 0, 17, 7902, 240433, 4081, 0, 197989, 75594, 4334991, 0, 361387, 0, 144395220, 24857, 0, 3212011, 73298624, 35958245, 1651723, 417384, 3061, 82928, 0, 204485, 386389, 0, 35411, 70682, 0, 50376, 0, 778214, 0, 0, 540496, 22741, 0, 4471424, 0, 85, 0, 4654127, 2229, 0, 3217142, 4619, 576, 42826, 0, 0, 0, 3205, 1523014, 0, 1194524, 17, 0, 740856, 875, 0, 334206, 195860, 206872, 139117, 6573328, 397967, 0]\n"
     ]
    }
   ],
   "source": [
    "kode_negara = list(df['kode_negara'].unique())\n",
    "print(f\"Kode: {kode_negara}\")\n",
    "total_produksi = []\n",
    "for kode in kode_negara:\n",
    "    jumlah_produksi = df[df['kode_negara']==kode]['produksi'].replace(\",\", \"\").astype(int)\n",
    "    total_produksi.append(jumlah_produksi.sum())\n",
    "print(f\"Total Produksi: {total_produksi}\")\n",
    "\n",
    "max_produksi = np.asarray(jumlah_produksi).max()\n",
    "max_produksi_idx = np.asarray(jumlah_produksi).argmax()\n"
   ]
  },
  {
   "cell_type": "code",
   "execution_count": 10,
   "metadata": {},
   "outputs": [
    {
     "data": {
      "text/plain": [
       "'1. AUS\\n 2. AUT\\n 3. BEL\\n 4. CAN\\n 5. CZE\\n 6. DNK\\n 7. FIN\\n 8. FRA\\n 9. DEU\\n 10. GRC\\n 11. HUN\\n 12. ISL\\n 13. IRL\\n 14. ITA\\n 15. JPN\\n 16. KOR\\n 17. LUX\\n 18. MEX\\n 19. NLD\\n 20. NZL\\n 21. NOR\\n 22. POL\\n 23. PRT\\n 24. SVK\\n 25. ESP\\n 26. SWE\\n 27. CHE\\n 28. TUR\\n 29. GBR\\n 30. USA\\n 31. OEU\\n 32. ALB\\n 33. DZA\\n 34. ARG\\n 35. ARM\\n 36. AZE\\n 37. BGD\\n 38. BLR\\n 39. BIH\\n 40. BRA\\n 41. BRN\\n 42. BGR\\n 43. KHM\\n 44. CHL\\n 45. CHN\\n 46. COL\\n 47. HRV\\n 48. CYP\\n 49. EGY\\n 50. EST\\n 51. ETH\\n 52. GEO\\n 53. GHA\\n 54. HTI\\n 55. HKG\\n 56. IND\\n 57. IDN\\n 58. IRN\\n 59. ISR\\n 60. KAZ\\n 61. LVA\\n 62. LTU\\n 63. MKD\\n 64. MYS\\n 65. MLT\\n 66. MDA\\n 67. MOZ\\n 68. NGA\\n 69. PAK\\n 70. PRY\\n 71. PER\\n 72. PHL\\n 73. ROU\\n 74. RUS\\n 75. SAU\\n 76. SGP\\n 77. SVN\\n 78. ZAF\\n 79. SDN\\n 80. TWN\\n 81. TZA\\n 82. THA\\n 83. UKR\\n 84. ARE\\n 85. URY\\n 86. VNM\\n 87. ZMB\\n 88. WLD\\n 89. SRB\\n 90. MNE\\n 91. EU28\\n 92. G20\\n 93. OECD\\n 94. AGO\\n 95. BHR\\n 96. BEN\\n 97. BOL\\n 98. BWA\\n 99. CMR\\n 100. COG\\n 101. CRI\\n 102. CIV\\n 103. CUB\\n 104. PRK\\n 105. COD\\n 106. DOM\\n 107. ECU\\n 108. SLV\\n 109. ERI\\n 110. GAB\\n 111. GTM\\n 112. HND\\n 113. IRQ\\n 114. JAM\\n 115. JOR\\n 116. KEN\\n 117. KWT\\n 118. KGZ\\n 119. LBN\\n 120. LBY\\n 121. MNG\\n 122. MAR\\n 123. MMR\\n 124. NAM\\n 125. NPL\\n 126. NIC\\n 127. NER\\n 128. OMN\\n 129. PAN\\n 130. QAT\\n 131. SEN\\n 132. LKA\\n 133. SYR\\n 134. TJK\\n 135. TGO\\n 136. TTO\\n 137. TUN\\n 138. TKM\\n 139. UZB\\n 140. VEN\\n 141. YEM\\n 142. ZWE\\n'"
      ]
     },
     "execution_count": 10,
     "metadata": {},
     "output_type": "execute_result"
    }
   ],
   "source": [
    "tulis_kode = []\n",
    "for i, kode in enumerate(kode_negara):\n",
    "    tulis_kode.append(f\"{str(i+1)}. {kode}\\n\")\n",
    "tulis_kode = ' '.join(map(str, tulis_kode))\n",
    "tulis_kode"
   ]
  },
  {
   "cell_type": "code",
   "execution_count": 24,
   "metadata": {},
   "outputs": [
    {
     "name": "stdout",
     "output_type": "stream",
     "text": [
      "['AUS', 'AUT', 'BEL', 'CAN', 'CZE', 'DNK', 'FIN', 'FRA', 'DEU', 'GRC', 'HUN', 'ISL', 'IRL', 'ITA', 'JPN', 'KOR', 'LUX', 'MEX', 'NLD', 'NZL', 'NOR', 'POL', 'PRT', 'SVK', 'ESP', 'SWE', 'CHE', 'TUR', 'GBR', 'USA', 'ALB', 'DZA', 'ARG', 'ARM', 'AZE', 'BGD', 'BLR', 'BIH', 'BRA', 'BRN', 'BGR', 'KHM', 'CHL', 'CHN', 'COL', 'HRV', 'CYP', 'EGY', 'EST', 'ETH', 'GEO', 'GHA', 'HTI', 'HKG', 'IND', 'IDN', 'IRN', 'ISR', 'KAZ', 'LVA', 'LTU', 'MKD', 'MYS', 'MLT', 'MDA', 'MOZ', 'NGA', 'PAK', 'PRY', 'PER', 'PHL', 'ROU', 'RUS', 'SAU', 'SGP', 'SVN', 'ZAF', 'SDN', 'TWN', 'TZA', 'THA', 'UKR', 'ARE', 'URY', 'VNM', 'ZMB', 'SRB', 'MNE', 'AGO', 'BHR', 'BEN', 'BOL', 'BWA', 'CMR', 'COG', 'CRI', 'CIV', 'CUB', 'PRK', 'COD', 'DOM', 'ECU', 'SLV', 'ERI', 'GAB', 'GTM', 'HND', 'IRQ', 'JAM', 'JOR', 'KEN', 'KWT', 'KGZ', 'LBN', 'LBY', 'MNG', 'MAR', 'MMR', 'NAM', 'NPL', 'NIC', 'NER', 'OMN', 'PAN', 'QAT', 'SEN', 'LKA', 'SYR', 'TJK', 'TGO', 'TTO', 'TUN', 'TKM', 'UZB', 'VEN', 'YEM', 'ZWE']\n"
     ]
    }
   ],
   "source": [
    "file_json = pd.read_json('kode_negara_lengkap.json')\n",
    "df_json = pd.DataFrame.from_dict(file_json)\n",
    "\n",
    "selain_negara = []\n",
    "kode_negara = list(df['kode_negara'].unique())\n",
    "for i in kode_negara:\n",
    "    if i not in list(df_json['alpha-3']):\n",
    "        selain_negara.append(i)\n",
    "\n",
    "for i in selain_negara:\n",
    "    df = df[df.kode_negara != i]\n",
    "    if i in kode_negara:\n",
    "        kode_negara.remove(i)\n",
    "\n",
    "print(kode_negara)\n"
   ]
  },
  {
   "cell_type": "code",
   "execution_count": 34,
   "metadata": {},
   "outputs": [
    {
     "data": {
      "text/html": [
       "<div>\n",
       "<style scoped>\n",
       "    .dataframe tbody tr th:only-of-type {\n",
       "        vertical-align: middle;\n",
       "    }\n",
       "\n",
       "    .dataframe tbody tr th {\n",
       "        vertical-align: top;\n",
       "    }\n",
       "\n",
       "    .dataframe thead th {\n",
       "        text-align: right;\n",
       "    }\n",
       "</style>\n",
       "<table border=\"1\" class=\"dataframe\">\n",
       "  <thead>\n",
       "    <tr style=\"text-align: right;\">\n",
       "      <th></th>\n",
       "      <th>negara</th>\n",
       "      <th>alpha-3</th>\n",
       "      <th>kode negara</th>\n",
       "      <th>region</th>\n",
       "      <th>sub-region</th>\n",
       "    </tr>\n",
       "  </thead>\n",
       "  <tbody>\n",
       "    <tr>\n",
       "      <th>0</th>\n",
       "      <td>Australia</td>\n",
       "      <td>AUS</td>\n",
       "      <td>36</td>\n",
       "      <td>Oceania</td>\n",
       "      <td>Australia and New Zealand</td>\n",
       "    </tr>\n",
       "    <tr>\n",
       "      <th>1</th>\n",
       "      <td>Austria</td>\n",
       "      <td>AUT</td>\n",
       "      <td>40</td>\n",
       "      <td>Europe</td>\n",
       "      <td>Western Europe</td>\n",
       "    </tr>\n",
       "    <tr>\n",
       "      <th>2</th>\n",
       "      <td>Belgium</td>\n",
       "      <td>BEL</td>\n",
       "      <td>56</td>\n",
       "      <td>Europe</td>\n",
       "      <td>Western Europe</td>\n",
       "    </tr>\n",
       "    <tr>\n",
       "      <th>3</th>\n",
       "      <td>Canada</td>\n",
       "      <td>CAN</td>\n",
       "      <td>124</td>\n",
       "      <td>Americas</td>\n",
       "      <td>Northern America</td>\n",
       "    </tr>\n",
       "    <tr>\n",
       "      <th>4</th>\n",
       "      <td>Czechia</td>\n",
       "      <td>CZE</td>\n",
       "      <td>203</td>\n",
       "      <td>Europe</td>\n",
       "      <td>Eastern Europe</td>\n",
       "    </tr>\n",
       "    <tr>\n",
       "      <th>...</th>\n",
       "      <td>...</td>\n",
       "      <td>...</td>\n",
       "      <td>...</td>\n",
       "      <td>...</td>\n",
       "      <td>...</td>\n",
       "    </tr>\n",
       "    <tr>\n",
       "      <th>132</th>\n",
       "      <td>Turkmenistan</td>\n",
       "      <td>TKM</td>\n",
       "      <td>795</td>\n",
       "      <td>Asia</td>\n",
       "      <td>Central Asia</td>\n",
       "    </tr>\n",
       "    <tr>\n",
       "      <th>133</th>\n",
       "      <td>Uzbekistan</td>\n",
       "      <td>UZB</td>\n",
       "      <td>860</td>\n",
       "      <td>Asia</td>\n",
       "      <td>Central Asia</td>\n",
       "    </tr>\n",
       "    <tr>\n",
       "      <th>134</th>\n",
       "      <td>Venezuela (Bolivarian Republic of)</td>\n",
       "      <td>VEN</td>\n",
       "      <td>862</td>\n",
       "      <td>Americas</td>\n",
       "      <td>Latin America and the Caribbean</td>\n",
       "    </tr>\n",
       "    <tr>\n",
       "      <th>135</th>\n",
       "      <td>Yemen</td>\n",
       "      <td>YEM</td>\n",
       "      <td>887</td>\n",
       "      <td>Asia</td>\n",
       "      <td>Western Asia</td>\n",
       "    </tr>\n",
       "    <tr>\n",
       "      <th>136</th>\n",
       "      <td>Zimbabwe</td>\n",
       "      <td>ZWE</td>\n",
       "      <td>716</td>\n",
       "      <td>Africa</td>\n",
       "      <td>Sub-Saharan Africa</td>\n",
       "    </tr>\n",
       "  </tbody>\n",
       "</table>\n",
       "<p>137 rows × 5 columns</p>\n",
       "</div>"
      ],
      "text/plain": [
       "                                 negara alpha-3  kode negara    region  \\\n",
       "0                             Australia     AUS           36   Oceania   \n",
       "1                               Austria     AUT           40    Europe   \n",
       "2                               Belgium     BEL           56    Europe   \n",
       "3                                Canada     CAN          124  Americas   \n",
       "4                               Czechia     CZE          203    Europe   \n",
       "..                                  ...     ...          ...       ...   \n",
       "132                        Turkmenistan     TKM          795      Asia   \n",
       "133                          Uzbekistan     UZB          860      Asia   \n",
       "134  Venezuela (Bolivarian Republic of)     VEN          862  Americas   \n",
       "135                               Yemen     YEM          887      Asia   \n",
       "136                            Zimbabwe     ZWE          716    Africa   \n",
       "\n",
       "                          sub-region  \n",
       "0          Australia and New Zealand  \n",
       "1                     Western Europe  \n",
       "2                     Western Europe  \n",
       "3                   Northern America  \n",
       "4                     Eastern Europe  \n",
       "..                               ...  \n",
       "132                     Central Asia  \n",
       "133                     Central Asia  \n",
       "134  Latin America and the Caribbean  \n",
       "135                     Western Asia  \n",
       "136               Sub-Saharan Africa  \n",
       "\n",
       "[137 rows x 5 columns]"
      ]
     },
     "execution_count": 34,
     "metadata": {},
     "output_type": "execute_result"
    }
   ],
   "source": [
    "nama_negara = []\n",
    "kode_angka = []\n",
    "region_json = []\n",
    "subregion_json = []\n",
    "for i in range(len(kode_negara)):\n",
    "    for j in range(len(list(df_json['alpha-3']))):\n",
    "        if list(df_json['alpha-3'])[j] == kode_negara[i] and list(df_json['name'])[j] not in nama_negara:\n",
    "            nama_negara.append(list(df_json['name'])[j])\n",
    "            kode_angka.append(list(df_json['country-code'])[j])\n",
    "            region_json.append(list(df_json['region'])[j])\n",
    "            subregion_json.append(list(df_json['sub-region'])[j])\n",
    "\n",
    "df_lengkap = pd.DataFrame(list(zip(nama_negara, kode_negara, kode_angka, region_json, subregion_json)), columns=['negara', 'alpha-3', 'kode negara', 'region', 'sub-region'])\n",
    "df_lengkap"
   ]
  },
  {
   "cell_type": "code",
   "execution_count": 69,
   "metadata": {},
   "outputs": [
    {
     "data": {
      "text/plain": [
       "([<matplotlib.lines.Line2D at 0x2999ee99130>],\n",
       " Text(0.5, 1.0, 'Grafik Negara Indonesia'),\n",
       " Text(0.5, 0, 'Tahun'),\n",
       " Text(0, 0.5, 'Produksi'))"
      ]
     },
     "execution_count": 69,
     "metadata": {},
     "output_type": "execute_result"
    },
    {
     "data": {
      "image/png": "[encoded data removed]",
      "text/plain": [
       "<Figure size 432x288 with 1 Axes>"
      ]
     },
     "metadata": {
      "needs_background": "light"
     },
     "output_type": "display_data"
    }
   ],
   "source": [
    "N = input(\"nama?\")\n",
    "\n",
    "for i in range(len(nama_negara)):\n",
    "    if nama_negara[i] == N:\n",
    "        kodenegarahuruf = kode_negara[i]\n",
    "        kodenegaraangka = kode_angka[i]\n",
    "        region = region_json[i]\n",
    "        subregion = subregion_json[i]\n",
    "\n",
    "# Membuat list baru untuk menampung data produksi negara dan tahunnya\n",
    "list_produksi = []\n",
    "list_tahun = []\n",
    "\n",
    "# Mengambil data produksi dan tahun berdasarkan negara yang dipilih pada\n",
    "# option dan memasukkannya ke list yang telah dibuat\n",
    "for i in range(len(list(df_clean['kode_negara']))):\n",
    "    if kodenegarahuruf == list(df_clean['kode_negara'])[i]:\n",
    "        list_produksi.append(list(df_clean['produksi'])[i])\n",
    "        list_tahun.append(list(df_clean['tahun'])[i])\n",
    "\n",
    "graf1 = plt.plot(list_tahun,list_produksi),plt.title('Grafik Negara '+N),plt.xlabel('Tahun'),plt.ylabel('Produksi')\n",
    "graf1"
   ]
  },
  {
   "cell_type": "code",
   "execution_count": 66,
   "metadata": {},
   "outputs": [
    {
     "data": {
      "image/png": "[encoded data removed]",
      "text/plain": [
       "<Figure size 432x288 with 1 Axes>"
      ]
     },
     "metadata": {
      "needs_background": "light"
     },
     "output_type": "display_data"
    }
   ],
   "source": [
    "T = int(input(\"Tahun Berape \"))\n",
    "B1 = int(input(\"Banyaknya ?\"))\n",
    "\n",
    "df_nomer2 = df_clean.loc[df['tahun'] ==T].sort_values(by=['produksi'], ascending=False)\n",
    "\n",
    "nama_df2 = []\n",
    "for i in range(len(list(df_nomer2['kode_negara']))):\n",
    "    for j in range(len(list(df_lengkap['alpha-3']))):\n",
    "        if list(df_nomer2['kode_negara'])[i] == list(df_lengkap['alpha-3'])[j]:\n",
    "            nama_df2.append(list(df_lengkap['negara'])[j])\n",
    "\n",
    "df_nomer2['negara'] = nama_df2\n",
    "df_nomer2 = df_nomer2[:B1]\n",
    "\n",
    "plt.barh(df_nomer2['negara'],df_nomer2['produksi'])\n",
    "plt.show()"
   ]
  },
  {
   "cell_type": "code",
   "execution_count": 67,
   "metadata": {},
   "outputs": [
    {
     "data": {
      "text/plain": [
       "Text(0.5, 1.0, 'Grafik 10 Negara Terbesar')"
      ]
     },
     "execution_count": 67,
     "metadata": {},
     "output_type": "execute_result"
    },
    {
     "data": {
      "image/png": "[encoded data removed]",
      "text/plain": [
       "<Figure size 432x288 with 1 Axes>"
      ]
     },
     "metadata": {},
     "output_type": "display_data"
    }
   ],
   "source": [
    "B2 = int(input(\"Berapa Negara \"))\n",
    "produksi_kumulatif = []\n",
    "\n",
    "for i in kode_negara:\n",
    "    n = df_clean.loc[df_clean['kode_negara']==i,'produksi'].sum()\n",
    "    produksi_kumulatif.append(n)\n",
    "\n",
    "df_nomer3 = pd.DataFrame(list(zip(kode_negara,produksi_kumulatif)),columns =['kode_negara','produksi_kumulatif']).sort_values(by=['produksi_kumulatif'], ascending=False)\n",
    "df_nomer3 = df_nomer3[:B2]\n",
    "\n",
    "negara3 = df_nomer3['kode_negara']\n",
    "produksi_nomer3 = df_nomer3['produksi_kumulatif']\n",
    "\n",
    "graf3 = plt.pie(df_nomer3['produksi_kumulatif'],labels=df_nomer3['kode_negara'])\n",
    "graf3 = plt.title(\"Grafik \"+str(B2)+\" Negara Terbesar\")\n",
    "graf3\n"
   ]
  }
 ],
 "metadata": {
  "interpreter": {
   "hash": "bf18297ba29ab59974e3cde921359bf4732846305eb0ebd212cf3897d725727a"
  },
  "kernelspec": {
   "display_name": "Python 3.9.7 64-bit",
   "language": "python",
   "name": "python3"
  },
  "language_info": {
   "codemirror_mode": {
    "name": "ipython",
    "version": 3
   },
   "file_extension": ".py",
   "mimetype": "text/x-python",
   "name": "python",
   "nbconvert_exporter": "python",
   "pygments_lexer": "ipython3",
   "version": "3.9.7"
  },
  "orig_nbformat": 4
 },
 "nbformat": 4,
 "nbformat_minor": 2
}
